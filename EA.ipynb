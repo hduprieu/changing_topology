{
 "cells": [
  {
   "cell_type": "markdown",
   "metadata": {},
   "source": [
    "# The role of topology in decentralized learning"
   ]
  },
  {
   "cell_type": "code",
   "execution_count": 72,
   "metadata": {},
   "outputs": [],
   "source": [
    "import numpy as np\n",
    "import numpy.random as rd\n",
    "import scipy.optimize as optim\n",
    "import matplotlib.pyplot as plt"
   ]
  },
  {
   "cell_type": "code",
   "execution_count": 57,
   "metadata": {},
   "outputs": [],
   "source": [
    "def DSGD_toypbm(lr, d, n, W, T):\n",
    "    \"\"\"\n",
    "    D-SGD algorithm for the toy-problem defined in section 3 (minimization of 1/2*||x||^2)\n",
    "\n",
    "    Inputs :\n",
    "    ------------\n",
    "    lr: learning rate\n",
    "    d: dimension\n",
    "    n: number of agents\n",
    "    W: gossip matrix (symmetric, stochastic, of size n*n)\n",
    "    T: number of time steps\n",
    "\n",
    "    Prints at each iteration the state x obtained by worker i = 0\n",
    "    \"\"\"\n",
    "\n",
    "    x0 = rd.normal(0,1, size = (d))\n",
    "    X = np.block([[x0]]*n)\n",
    "\n",
    "    for _ in range(T):\n",
    "        for i in range(n):\n",
    "            v = rd.normal(0,1, size = (d,1))\n",
    "            X[i,:] = X[i,:] - lr * v.dot(v.T).dot(X[i,:])\n",
    "\n",
    "        X = W.dot(X)\n",
    "\n",
    "        print(X[0,:])\n"
   ]
  },
  {
   "cell_type": "code",
   "execution_count": 69,
   "metadata": {},
   "outputs": [],
   "source": [
    "n = 10\n",
    "d = 4\n",
    "\n",
    "# Ring topology gossip matrix\n",
    "\n",
    "W = np.block([[1/5 * np.ones((5,5)),np.zeros((5,5))],[np.zeros((5,5)),1/5 * np.ones((5,5))]])\n",
    "W[4,4] = 1/10\n",
    "W[4,5] = 1/10\n",
    "W[5,4] = 1/10\n",
    "W[5,5] = 1/10\n",
    "\n"
   ]
  },
  {
   "cell_type": "code",
   "execution_count": 61,
   "metadata": {},
   "outputs": [
    {
     "name": "stdout",
     "output_type": "stream",
     "text": [
      "[-0.43880557 -0.36034454 -0.33203404  0.09663972]\n",
      "[-0.39264238 -0.3470509  -0.33036956  0.02092921]\n",
      "[-0.11527067 -0.18111727 -0.20810349 -0.03407988]\n",
      "[-0.10287816 -0.12966335 -0.17646973  0.05669968]\n",
      "[ 0.08083779 -0.06389137  0.05406046  0.08211345]\n",
      "[ 0.0261899  -0.01944133  0.08371069  0.03620867]\n",
      "[ 0.0158546  -0.01586398  0.04297026  0.01120719]\n",
      "[-0.01152025 -0.01724644  0.01120347  0.00485066]\n",
      "[-0.01194906 -0.01097799  0.01294022 -0.00096983]\n",
      "[-0.01177521 -0.01222065  0.00968102 -0.00013002]\n",
      "[-0.01224505 -0.00015576  0.0063666  -0.00068699]\n",
      "[-5.89918826e-03 -3.43606703e-03 -1.96159997e-05 -2.82272989e-03]\n",
      "[-0.00202708 -0.00206896 -0.00235714 -0.00056992]\n",
      "[-0.00045513 -0.00095327 -0.00225292 -0.00131343]\n",
      "[-0.00012829 -0.00071088 -0.00168191 -0.00036599]\n",
      "[-0.00034534 -0.00051705 -0.00144787 -0.00040566]\n",
      "[-0.00028104 -0.00079413 -0.00104725 -0.00044101]\n",
      "[-0.00032569 -0.00069229 -0.00096668 -0.00029589]\n",
      "[-4.40300280e-04 -5.20228541e-04 -7.68471470e-04  8.17639138e-05]\n",
      "[-0.00033127 -0.00027878 -0.00019315  0.00013318]\n",
      "[-1.52018699e-04 -8.47312718e-05  1.60047063e-04 -6.92360631e-05]\n",
      "[-6.09416166e-05 -8.16524586e-05  1.24510969e-04  6.39064704e-06]\n",
      "[-7.08805019e-05 -7.17829474e-05  7.05952177e-05  4.95669844e-05]\n",
      "[-3.20866453e-05 -5.22113711e-05  7.13256970e-05  2.66125107e-05]\n",
      "[-2.40319305e-05 -6.35086375e-06  5.09020027e-05  1.12332321e-05]\n",
      "[-1.68872480e-05 -5.71861849e-06  4.85602503e-05  4.32132883e-06]\n",
      "[-1.59758059e-06  5.98630977e-06  1.38384644e-05  3.08378293e-05]\n",
      "[6.78475033e-07 8.88931808e-06 1.16172188e-05 2.62755217e-05]\n",
      "[-1.17401836e-05  1.28353738e-05 -9.18479319e-06  5.99076430e-06]\n",
      "[-9.93771523e-06  7.49688566e-06 -3.81451877e-06  8.38467549e-06]\n",
      "[-8.91466820e-06  4.39664223e-06 -5.04542342e-06  6.14839257e-06]\n",
      "[-8.93103973e-06  2.98546116e-06 -2.06662206e-06  2.91871029e-06]\n",
      "[-7.57535914e-06  2.49729401e-06 -2.23561940e-06  3.32607817e-06]\n",
      "[-5.33982190e-06  5.20447856e-07  4.88332119e-07 -1.46109172e-06]\n",
      "[-4.41602933e-06  6.81132056e-07 -5.17133255e-07 -3.89391573e-07]\n",
      "[-2.27189092e-06  3.85239249e-07 -1.19168590e-06  5.30344260e-07]\n",
      "[-1.53818343e-06 -2.60164310e-07 -3.15724421e-07  5.65367835e-07]\n",
      "[-8.61611993e-07 -4.94870004e-08 -4.25102978e-07  6.60726356e-07]\n",
      "[-6.67216699e-07  1.35717666e-08 -2.30486593e-07  2.52563815e-07]\n",
      "[-3.26758593e-07 -3.08592596e-07  4.01420574e-08  1.00542452e-07]\n",
      "[-1.40223251e-07 -2.89734822e-07  1.24326392e-07  5.41478834e-10]\n",
      "[-5.03147464e-08 -1.64399903e-07  4.30986672e-09 -1.06679442e-07]\n",
      "[-3.66598938e-08 -9.33890447e-08 -3.94945310e-08  2.26519026e-08]\n",
      "[-3.67205380e-09 -5.40735597e-08 -2.59219476e-08  9.76878736e-09]\n",
      "[ 5.76397253e-09 -4.07228409e-08 -1.95809447e-08  1.22433786e-08]\n",
      "[ 1.03229206e-09 -1.61079588e-08 -2.17290227e-08  2.69087181e-09]\n",
      "[-2.04076995e-09 -1.33389099e-08 -1.97760184e-08  2.95380516e-09]\n",
      "[-1.89851060e-09 -1.20068929e-08 -1.76694094e-08  5.54557200e-09]\n",
      "[-2.77523304e-10 -1.08474237e-08 -1.60679610e-08  4.18790279e-09]\n",
      "[ 1.60183224e-09 -2.82956061e-09 -7.26319296e-09  3.24300910e-09]\n"
     ]
    }
   ],
   "source": [
    "DSGD_toypbm(0.4, d, n, W, 50)"
   ]
  },
  {
   "cell_type": "code",
   "execution_count": 65,
   "metadata": {},
   "outputs": [],
   "source": [
    "def nW(gamma, W):\n",
    "    \"\"\"\n",
    "    Computes the effective number of neighbours of the gossip matrix W for the decay parameter gamma\n",
    "    \"\"\"\n",
    "    lambdas = np.linalg.eigvals(W)\n",
    "    denominator = np.mean(lambdas**2 / (1 - gamma*lambdas**2))\n",
    "    return 1/(1-gamma) * 1/denominator"
   ]
  },
  {
   "cell_type": "code",
   "execution_count": 68,
   "metadata": {},
   "outputs": [
    {
     "data": {
      "text/plain": [
       "1.0"
      ]
     },
     "execution_count": 68,
     "metadata": {},
     "output_type": "execute_result"
    }
   ],
   "source": [
    "# The effective number of neighbours for the alone topology (W = I) should be 1 independently of gamma\n",
    "nW(.5, np.eye(10))"
   ]
  },
  {
   "cell_type": "code",
   "execution_count": 73,
   "metadata": {},
   "outputs": [],
   "source": [
    "def rate_toypbm(lr, zeta, W):\n",
    "    \"\"\"\n",
    "    Computes the convergence rate of D-SGD in the toy-problem case\n",
    "\n",
    "    Inputs:\n",
    "    ----------------\n",
    "    lr: learning rate of D-SGD\n",
    "    zeta: noise level (= d + 2 in the case of the toy-problem in dimension d)\n",
    "    W: gossip matrix used for D-SGD\n",
    "\n",
    "    Outputs:\n",
    "    ----------------\n",
    "    r: convergence rate of D-SGD\n",
    "    \"\"\"\n",
    "    f_tosolve = lambda r : r - (1 - (1 - lr)**2 - (zeta - 1) * lr**2 / nW((1-lr)**2 / (1-r), W))\n",
    "    r = optim.fsolve(f_tosolve)\n",
    "    return r"
   ]
  },
  {
   "cell_type": "code",
   "execution_count": 74,
   "metadata": {},
   "outputs": [
    {
     "ename": "TypeError",
     "evalue": "fsolve() missing 1 required positional argument: 'x0'",
     "output_type": "error",
     "traceback": [
      "\u001b[0;31m---------------------------------------------------------------------------\u001b[0m",
      "\u001b[0;31mTypeError\u001b[0m                                 Traceback (most recent call last)",
      "\u001b[0;32m/var/folders/cm/vmgsxzcd2yq32cxy_4x5pswr0000gn/T/ipykernel_11659/2164352191.py\u001b[0m in \u001b[0;36m<module>\u001b[0;34m\u001b[0m\n\u001b[0;32m----> 1\u001b[0;31m \u001b[0mrate_toypbm\u001b[0m\u001b[0;34m(\u001b[0m\u001b[0;36m0.5\u001b[0m\u001b[0;34m,\u001b[0m \u001b[0;36m6\u001b[0m\u001b[0;34m,\u001b[0m \u001b[0mnp\u001b[0m\u001b[0;34m.\u001b[0m\u001b[0meye\u001b[0m\u001b[0;34m(\u001b[0m\u001b[0;36m10\u001b[0m\u001b[0;34m)\u001b[0m\u001b[0;34m)\u001b[0m\u001b[0;34m\u001b[0m\u001b[0;34m\u001b[0m\u001b[0m\n\u001b[0m",
      "\u001b[0;32m/var/folders/cm/vmgsxzcd2yq32cxy_4x5pswr0000gn/T/ipykernel_11659/405343420.py\u001b[0m in \u001b[0;36mrate_toypbm\u001b[0;34m(lr, zeta, W)\u001b[0m\n\u001b[1;32m     14\u001b[0m     \"\"\"\n\u001b[1;32m     15\u001b[0m     \u001b[0mf_tosolve\u001b[0m \u001b[0;34m=\u001b[0m \u001b[0;32mlambda\u001b[0m \u001b[0mr\u001b[0m \u001b[0;34m:\u001b[0m \u001b[0mr\u001b[0m \u001b[0;34m-\u001b[0m \u001b[0;34m(\u001b[0m\u001b[0;36m1\u001b[0m \u001b[0;34m-\u001b[0m \u001b[0;34m(\u001b[0m\u001b[0;36m1\u001b[0m \u001b[0;34m-\u001b[0m \u001b[0mlr\u001b[0m\u001b[0;34m)\u001b[0m\u001b[0;34m**\u001b[0m\u001b[0;36m2\u001b[0m \u001b[0;34m-\u001b[0m \u001b[0;34m(\u001b[0m\u001b[0mzeta\u001b[0m \u001b[0;34m-\u001b[0m \u001b[0;36m1\u001b[0m\u001b[0;34m)\u001b[0m \u001b[0;34m*\u001b[0m \u001b[0mlr\u001b[0m\u001b[0;34m**\u001b[0m\u001b[0;36m2\u001b[0m \u001b[0;34m/\u001b[0m \u001b[0mnW\u001b[0m\u001b[0;34m(\u001b[0m\u001b[0;34m(\u001b[0m\u001b[0;36m1\u001b[0m\u001b[0;34m-\u001b[0m\u001b[0mlr\u001b[0m\u001b[0;34m)\u001b[0m\u001b[0;34m**\u001b[0m\u001b[0;36m2\u001b[0m \u001b[0;34m/\u001b[0m \u001b[0;34m(\u001b[0m\u001b[0;36m1\u001b[0m\u001b[0;34m-\u001b[0m\u001b[0mr\u001b[0m\u001b[0;34m)\u001b[0m\u001b[0;34m,\u001b[0m \u001b[0mW\u001b[0m\u001b[0;34m)\u001b[0m\u001b[0;34m)\u001b[0m\u001b[0;34m\u001b[0m\u001b[0;34m\u001b[0m\u001b[0m\n\u001b[0;32m---> 16\u001b[0;31m     \u001b[0mr\u001b[0m \u001b[0;34m=\u001b[0m \u001b[0moptim\u001b[0m\u001b[0;34m.\u001b[0m\u001b[0mfsolve\u001b[0m\u001b[0;34m(\u001b[0m\u001b[0mf_tosolve\u001b[0m\u001b[0;34m)\u001b[0m\u001b[0;34m\u001b[0m\u001b[0;34m\u001b[0m\u001b[0m\n\u001b[0m\u001b[1;32m     17\u001b[0m     \u001b[0;32mreturn\u001b[0m \u001b[0mr\u001b[0m\u001b[0;34m\u001b[0m\u001b[0;34m\u001b[0m\u001b[0m\n",
      "\u001b[0;31mTypeError\u001b[0m: fsolve() missing 1 required positional argument: 'x0'"
     ]
    }
   ],
   "source": [
    "rate_toypbm(0.5, 6, np.eye(10))"
   ]
  },
  {
   "cell_type": "code",
   "execution_count": null,
   "metadata": {},
   "outputs": [],
   "source": []
  }
 ],
 "metadata": {
  "kernelspec": {
   "display_name": "base",
   "language": "python",
   "name": "python3"
  },
  "language_info": {
   "codemirror_mode": {
    "name": "ipython",
    "version": 3
   },
   "file_extension": ".py",
   "mimetype": "text/x-python",
   "name": "python",
   "nbconvert_exporter": "python",
   "pygments_lexer": "ipython3",
   "version": "3.9.7"
  },
  "orig_nbformat": 4
 },
 "nbformat": 4,
 "nbformat_minor": 2
}
